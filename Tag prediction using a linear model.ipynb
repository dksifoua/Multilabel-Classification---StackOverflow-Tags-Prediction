{
 "cells": [
  {
   "cell_type": "code",
   "execution_count": 1,
   "metadata": {},
   "outputs": [
    {
     "name": "stderr",
     "output_type": "stream",
     "text": [
      "[nltk_data] Downloading package stopwords to /root/nltk_data...\n",
      "[nltk_data]   Package stopwords is already up-to-date!\n"
     ]
    }
   ],
   "source": [
    "import re\n",
    "import ast\n",
    "import tqdm\n",
    "import pickle\n",
    "import collections\n",
    "import numpy as np\n",
    "import scipy as sp\n",
    "import pandas as pd\n",
    "\n",
    "import nltk\n",
    "from nltk.corpus import stopwords\n",
    "nltk.download('stopwords')\n",
    "\n",
    "from sklearn.feature_extraction.text import TfidfVectorizer\n",
    "from sklearn.preprocessing import MultiLabelBinarizer\n",
    "from sklearn.model_selection import GridSearchCV\n",
    "from sklearn.linear_model import LogisticRegression\n",
    "from sklearn.multiclass import OneVsRestClassifier\n",
    "from sklearn.metrics import f1_score, make_scorer\n",
    "\n",
    "import warnings\n",
    "warnings.simplefilter(action='ignore', category=DeprecationWarning)\n",
    "warnings.simplefilter(action='ignore', category=FutureWarning)\n",
    "\n",
    "SEED = 78"
   ]
  },
  {
   "cell_type": "markdown",
   "metadata": {},
   "source": [
    "## Text processing"
   ]
  },
  {
   "cell_type": "code",
   "execution_count": 2,
   "metadata": {},
   "outputs": [
    {
     "name": "stdout",
     "output_type": "stream",
     "text": [
      "Shape of data\n",
      "Train: (100000, 2)\n",
      "Test: (30000, 2)\n"
     ]
    },
    {
     "data": {
      "text/html": [
       "<div>\n",
       "<style scoped>\n",
       "    .dataframe tbody tr th:only-of-type {\n",
       "        vertical-align: middle;\n",
       "    }\n",
       "\n",
       "    .dataframe tbody tr th {\n",
       "        vertical-align: top;\n",
       "    }\n",
       "\n",
       "    .dataframe thead th {\n",
       "        text-align: right;\n",
       "    }\n",
       "</style>\n",
       "<table border=\"1\" class=\"dataframe\">\n",
       "  <thead>\n",
       "    <tr style=\"text-align: right;\">\n",
       "      <th></th>\n",
       "      <th>title</th>\n",
       "      <th>tags</th>\n",
       "    </tr>\n",
       "  </thead>\n",
       "  <tbody>\n",
       "    <tr>\n",
       "      <th>0</th>\n",
       "      <td>How to draw a stacked dotplot in R?</td>\n",
       "      <td>['r']</td>\n",
       "    </tr>\n",
       "    <tr>\n",
       "      <th>1</th>\n",
       "      <td>mysql select all records where a datetime fiel...</td>\n",
       "      <td>['php', 'mysql']</td>\n",
       "    </tr>\n",
       "    <tr>\n",
       "      <th>2</th>\n",
       "      <td>How to terminate windows phone 8.1 app</td>\n",
       "      <td>['c#']</td>\n",
       "    </tr>\n",
       "    <tr>\n",
       "      <th>3</th>\n",
       "      <td>get current time in a specific country via jquery</td>\n",
       "      <td>['javascript', 'jquery']</td>\n",
       "    </tr>\n",
       "    <tr>\n",
       "      <th>4</th>\n",
       "      <td>Configuring Tomcat to Use SSL</td>\n",
       "      <td>['java']</td>\n",
       "    </tr>\n",
       "  </tbody>\n",
       "</table>\n",
       "</div>"
      ],
      "text/plain": [
       "                                               title                      tags\n",
       "0                How to draw a stacked dotplot in R?                     ['r']\n",
       "1  mysql select all records where a datetime fiel...          ['php', 'mysql']\n",
       "2             How to terminate windows phone 8.1 app                    ['c#']\n",
       "3  get current time in a specific country via jquery  ['javascript', 'jquery']\n",
       "4                      Configuring Tomcat to Use SSL                  ['java']"
      ]
     },
     "execution_count": 2,
     "metadata": {},
     "output_type": "execute_result"
    }
   ],
   "source": [
    "train = pd.read_csv('./data/train.tsv', sep='\\t')\n",
    "test = pd.read_csv('./data/test.tsv', sep='\\t')\n",
    "\n",
    "print('Shape of data')\n",
    "print(f'Train: {train.shape}')\n",
    "print(f'Test: {test.shape}')\n",
    "\n",
    "train.head()"
   ]
  },
  {
   "cell_type": "code",
   "execution_count": 3,
   "metadata": {},
   "outputs": [
    {
     "name": "stdout",
     "output_type": "stream",
     "text": [
      "Help on function literal_eval in module ast:\n",
      "\n",
      "literal_eval(node_or_string)\n",
      "    Safely evaluate an expression node or a string containing a Python\n",
      "    expression.  The string or node provided may only consist of the following\n",
      "    Python literal structures: strings, bytes, numbers, tuples, lists, dicts,\n",
      "    sets, booleans, and None.\n",
      "\n"
     ]
    }
   ],
   "source": [
    "help(ast.literal_eval)"
   ]
  },
  {
   "cell_type": "code",
   "execution_count": 4,
   "metadata": {},
   "outputs": [],
   "source": [
    "train.tags = train.tags.apply(ast.literal_eval)\n",
    "test.tags = test.tags.apply(ast.literal_eval)"
   ]
  },
  {
   "cell_type": "code",
   "execution_count": 5,
   "metadata": {},
   "outputs": [],
   "source": [
    "X_train, y_train = train.title.values, train.tags.values\n",
    "X_test, y_test = test.title.values, test.tags.values"
   ]
  },
  {
   "cell_type": "code",
   "execution_count": 6,
   "metadata": {},
   "outputs": [],
   "source": [
    "def clean_text(text):\n",
    "    text = text.strip().lower()\n",
    "    text = re.sub('[/(){}\\[\\]\\|@,;]', ' ', text)\n",
    "    text = re.sub('[^0-9a-z #+_]', '', text)\n",
    "    text = ' '.join([word for word in str(text).split()\n",
    "                     if word not in set(stopwords.words('english'))])\n",
    "    return text"
   ]
  },
  {
   "cell_type": "code",
   "execution_count": 7,
   "metadata": {},
   "outputs": [
    {
     "name": "stderr",
     "output_type": "stream",
     "text": [
      "100%|██████████| 100000/100000 [01:33<00:00, 1072.50it/s]\n",
      "100%|██████████| 30000/30000 [00:28<00:00, 1064.83it/s]\n"
     ]
    }
   ],
   "source": [
    "X_train = [clean_text(text) for text in tqdm.tqdm(X_train)]\n",
    "X_test = [clean_text(text) for text in tqdm.tqdm(X_test)]"
   ]
  },
  {
   "cell_type": "code",
   "execution_count": 8,
   "metadata": {},
   "outputs": [
    {
     "data": {
      "text/plain": [
       "['draw stacked dotplot r',\n",
       " 'mysql select records datetime field less specified value',\n",
       " 'terminate windows phone 81 app']"
      ]
     },
     "execution_count": 8,
     "metadata": {},
     "output_type": "execute_result"
    }
   ],
   "source": [
    "X_train[:3]"
   ]
  },
  {
   "cell_type": "code",
   "execution_count": 9,
   "metadata": {},
   "outputs": [],
   "source": [
    "word2count = collections.defaultdict(lambda: 0)\n",
    "for text in X_train:\n",
    "    for word in text.split():\n",
    "        word2count[word] += 1\n",
    "\n",
    "tag2count = collections.defaultdict(lambda: 0)\n",
    "for tags in y_train:\n",
    "    for tag in tags:\n",
    "        tag2count[tag] += 1"
   ]
  },
  {
   "cell_type": "code",
   "execution_count": 10,
   "metadata": {},
   "outputs": [
    {
     "name": "stdout",
     "output_type": "stream",
     "text": [
      "[('javascript', 19078), ('c#', 19077), ('java', 18661)]\n",
      "[('using', 8278), ('php', 5614), ('java', 5501)]\n"
     ]
    }
   ],
   "source": [
    "most_common_tags = sorted(tag2count.items(),\n",
    "                          key=lambda x: x[1],\n",
    "                          reverse=True)\n",
    "most_common_words = sorted(word2count.items(),\n",
    "                          key=lambda x: x[1],\n",
    "                          reverse=True)\n",
    "print(most_common_tags[:3])\n",
    "print(most_common_words[:3])"
   ]
  },
  {
   "cell_type": "markdown",
   "metadata": {},
   "source": [
    "## Label processing"
   ]
  },
  {
   "cell_type": "code",
   "execution_count": 11,
   "metadata": {},
   "outputs": [
    {
     "name": "stdout",
     "output_type": "stream",
     "text": [
      "y_train shape: (100000, 100)\n",
      "y_test shape: (30000, 100)\n",
      "CPU times: user 148 ms, sys: 52 ms, total: 200 ms\n",
      "Wall time: 199 ms\n"
     ]
    }
   ],
   "source": [
    "%%time\n",
    "mlb = MultiLabelBinarizer(classes=sorted(tag2count.keys()))\n",
    "y_train = mlb.fit_transform(y_train)\n",
    "y_test = mlb.fit_transform(y_test)\n",
    "\n",
    "print(f'y_train shape: {y_train.shape}')\n",
    "print(f'y_test shape: {y_test.shape}')"
   ]
  },
  {
   "cell_type": "markdown",
   "metadata": {},
   "source": [
    "## Feature extraction"
   ]
  },
  {
   "cell_type": "code",
   "execution_count": 12,
   "metadata": {},
   "outputs": [
    {
     "name": "stdout",
     "output_type": "stream",
     "text": [
      "Number of words: 31497\n"
     ]
    }
   ],
   "source": [
    "print(f'Number of words: {len(word2count)}')"
   ]
  },
  {
   "cell_type": "code",
   "execution_count": 13,
   "metadata": {},
   "outputs": [],
   "source": [
    "VOCAB_SIZE = 5000\n",
    "\n",
    "WORD2INDEX = {token[0]: i\n",
    "              for i, token in enumerate(most_common_words[:VOCAB_SIZE])}\n",
    "INDEX2WORD = {v: k for k, v in WORD2INDEX.items()}"
   ]
  },
  {
   "cell_type": "code",
   "execution_count": 14,
   "metadata": {},
   "outputs": [],
   "source": [
    "def get_bow(text, word2index=WORD2INDEX, vocab_size=VOCAB_SIZE):\n",
    "    vect = np.zeros(vocab_size)\n",
    "    for word in text.split():\n",
    "        if word in word2index:\n",
    "            vect[word2index[word]] += 1\n",
    "    return vect"
   ]
  },
  {
   "cell_type": "code",
   "execution_count": 15,
   "metadata": {},
   "outputs": [
    {
     "name": "stderr",
     "output_type": "stream",
     "text": [
      "100%|██████████| 100000/100000 [00:27<00:00, 3667.19it/s]\n",
      "100%|██████████| 30000/30000 [00:07<00:00, 3793.12it/s]\n"
     ]
    },
    {
     "name": "stdout",
     "output_type": "stream",
     "text": [
      "X_train_bow shape: (100000, 5000)\n",
      "X_test_bow shape: (30000, 5000)\n"
     ]
    }
   ],
   "source": [
    "X_train_bow = sp.sparse.vstack([sp.sparse.csr_matrix(get_bow(text))\n",
    "                                for text in tqdm.tqdm(X_train)])\n",
    "X_test_bow = sp.sparse.vstack([sp.sparse.csr_matrix(get_bow(text))\n",
    "                               for text in tqdm.tqdm(X_test)])\n",
    "\n",
    "print('X_train_bow shape:', X_train_bow.shape)\n",
    "print('X_test_bow shape:', X_test_bow.shape)"
   ]
  },
  {
   "cell_type": "code",
   "execution_count": 16,
   "metadata": {},
   "outputs": [
    {
     "name": "stdout",
     "output_type": "stream",
     "text": [
      "X_train_tfidf shape: (100000, 18300)\n",
      "X_test_tfidf shape: (30000, 18300)\n",
      "CPU times: user 4.4 s, sys: 28 ms, total: 4.43 s\n",
      "Wall time: 4.43 s\n"
     ]
    }
   ],
   "source": [
    "%%time\n",
    "tfidf_vectorizer = TfidfVectorizer(token_pattern='\\S+',\n",
    "                                   min_df=5, max_df=0.9,\n",
    "                                   ngram_range=(1, 2))\n",
    "tfidf_vectorizer.fit(X_train)\n",
    "\n",
    "X_train_tfidf = tfidf_vectorizer.transform(X_train)\n",
    "X_test_tfidf = tfidf_vectorizer.transform(X_test)\n",
    "\n",
    "print('X_train_tfidf shape:', X_train_tfidf.shape)\n",
    "print('X_test_tfidf shape:', X_test_tfidf.shape)"
   ]
  },
  {
   "cell_type": "markdown",
   "metadata": {},
   "source": [
    "## Modeling"
   ]
  },
  {
   "cell_type": "code",
   "execution_count": 17,
   "metadata": {},
   "outputs": [],
   "source": [
    "def train_model(clf, X_tr, y_tr, params=None):\n",
    "    if params is None:\n",
    "        model = OneVsRestClassifier(estimator=clf)\n",
    "        model.fit(X_tr, y_tr)\n",
    "        return model\n",
    "    else:\n",
    "        params = {f'estimator__{k}': v for k, v in params.items()}\n",
    "        # print(params)\n",
    "        gs = GridSearchCV(OneVsRestClassifier(estimator=clf),\n",
    "                          param_grid=params, cv=5,\n",
    "                          scoring=make_scorer(f1_score,\n",
    "                                              average='weighted'),\n",
    "                          verbose=10, n_jobs=-1)\n",
    "        gs.fit(X_tr, y_tr)\n",
    "        print(f'Best CV score: {gs.best_score_:.5f}')\n",
    "        return gs.best_estimator_"
   ]
  },
  {
   "cell_type": "code",
   "execution_count": 18,
   "metadata": {},
   "outputs": [],
   "source": [
    "lr_params = {\n",
    "    'C': [0.1, 1, 5, 10],\n",
    "    'penalty': ['l1', 'l2'],\n",
    "    'random_state': [SEED],\n",
    "    'max_iter': [1000]\n",
    "}"
   ]
  },
  {
   "cell_type": "code",
   "execution_count": 19,
   "metadata": {},
   "outputs": [
    {
     "name": "stdout",
     "output_type": "stream",
     "text": [
      "Fitting 5 folds for each of 8 candidates, totalling 40 fits\n"
     ]
    },
    {
     "name": "stderr",
     "output_type": "stream",
     "text": [
      "[Parallel(n_jobs=-1)]: Using backend LokyBackend with 2 concurrent workers.\n",
      "[Parallel(n_jobs=-1)]: Done   1 tasks      | elapsed:    2.2s\n",
      "[Parallel(n_jobs=-1)]: Done   4 tasks      | elapsed:    3.6s\n",
      "[Parallel(n_jobs=-1)]: Done   9 tasks      | elapsed:  1.8min\n",
      "[Parallel(n_jobs=-1)]: Done  14 tasks      | elapsed:  1.9min\n",
      "[Parallel(n_jobs=-1)]: Done  21 tasks      | elapsed:  6.4min\n",
      "[Parallel(n_jobs=-1)]: Done  28 tasks      | elapsed: 13.0min\n",
      "[Parallel(n_jobs=-1)]: Done  37 tasks      | elapsed: 20.6min\n",
      "[Parallel(n_jobs=-1)]: Done  40 out of  40 | elapsed: 26.1min finished\n"
     ]
    },
    {
     "name": "stdout",
     "output_type": "stream",
     "text": [
      "Best CV score: 0.64910\n",
      "CPU times: user 2min 57s, sys: 272 ms, total: 2min 57s\n",
      "Wall time: 29min 3s\n"
     ]
    }
   ],
   "source": [
    "%%time\n",
    "clf_bow = train_model(LogisticRegression(),\n",
    "                      X_tr=X_train_bow,\n",
    "                      y_tr=y_train,\n",
    "                      params=lr_params)"
   ]
  },
  {
   "cell_type": "code",
   "execution_count": 28,
   "metadata": {},
   "outputs": [
    {
     "data": {
      "text/plain": [
       "OneVsRestClassifier(estimator=LogisticRegression(C=5, class_weight=None,\n",
       "                                                 dual=False, fit_intercept=True,\n",
       "                                                 intercept_scaling=1,\n",
       "                                                 l1_ratio=None, max_iter=1000,\n",
       "                                                 multi_class='auto',\n",
       "                                                 n_jobs=None, penalty='l2',\n",
       "                                                 random_state=78,\n",
       "                                                 solver='lbfgs', tol=0.0001,\n",
       "                                                 verbose=0, warm_start=False),\n",
       "                    n_jobs=None)"
      ]
     },
     "execution_count": 28,
     "metadata": {},
     "output_type": "execute_result"
    }
   ],
   "source": [
    "clf_bow."
   ]
  },
  {
   "cell_type": "code",
   "execution_count": 20,
   "metadata": {},
   "outputs": [
    {
     "name": "stdout",
     "output_type": "stream",
     "text": [
      "Fitting 5 folds for each of 8 candidates, totalling 40 fits\n"
     ]
    },
    {
     "name": "stderr",
     "output_type": "stream",
     "text": [
      "[Parallel(n_jobs=-1)]: Using backend LokyBackend with 2 concurrent workers.\n",
      "[Parallel(n_jobs=-1)]: Done   1 tasks      | elapsed:    1.4s\n",
      "[Parallel(n_jobs=-1)]: Done   4 tasks      | elapsed:    2.8s\n",
      "[Parallel(n_jobs=-1)]: Done   9 tasks      | elapsed:  1.7min\n",
      "[Parallel(n_jobs=-1)]: Done  14 tasks      | elapsed:  1.8min\n",
      "[Parallel(n_jobs=-1)]: Done  21 tasks      | elapsed:  6.0min\n",
      "[Parallel(n_jobs=-1)]: Done  28 tasks      | elapsed: 12.2min\n",
      "[Parallel(n_jobs=-1)]: Done  37 tasks      | elapsed: 19.2min\n",
      "[Parallel(n_jobs=-1)]: Done  40 out of  40 | elapsed: 24.5min finished\n"
     ]
    },
    {
     "name": "stdout",
     "output_type": "stream",
     "text": [
      "Best CV score: 0.64637\n",
      "CPU times: user 3min 31s, sys: 152 ms, total: 3min 31s\n",
      "Wall time: 28min 2s\n"
     ]
    }
   ],
   "source": [
    "%%time\n",
    "clf_tfidf = train_model(LogisticRegression(),\n",
    "                        X_tr=X_train_tfidf,\n",
    "                        y_tr=y_train,\n",
    "                        params=lr_params)"
   ]
  },
  {
   "cell_type": "code",
   "execution_count": 29,
   "metadata": {},
   "outputs": [
    {
     "data": {
      "text/plain": [
       "OneVsRestClassifier(estimator=LogisticRegression(C=10, class_weight=None,\n",
       "                                                 dual=False, fit_intercept=True,\n",
       "                                                 intercept_scaling=1,\n",
       "                                                 l1_ratio=None, max_iter=1000,\n",
       "                                                 multi_class='auto',\n",
       "                                                 n_jobs=None, penalty='l2',\n",
       "                                                 random_state=78,\n",
       "                                                 solver='lbfgs', tol=0.0001,\n",
       "                                                 verbose=0, warm_start=False),\n",
       "                    n_jobs=None)"
      ]
     },
     "execution_count": 29,
     "metadata": {},
     "output_type": "execute_result"
    }
   ],
   "source": [
    "clf_tfidf"
   ]
  },
  {
   "cell_type": "code",
   "execution_count": 35,
   "metadata": {},
   "outputs": [
    {
     "name": "stdout",
     "output_type": "stream",
     "text": [
      "LR + BOW - F1 score: 0.65434\n",
      "LR + TF-IDF - F1 score: 0.65400\n"
     ]
    }
   ],
   "source": [
    "y_pred_bow = clf_bow.predict(X_test_bow)\n",
    "y_pred_tfidf = clf_tfidf.predict(X_test_tfidf)\n",
    "\n",
    "f1_score_bow = f1_score(y_test, y_pred_bow, average='weighted')\n",
    "f1_score_tfidf = f1_score(y_test, y_pred_tfidf, average='weighted')\n",
    "\n",
    "print(f'LR + BOW - F1 score: {f1_score_bow:.5f}')\n",
    "print(f'LR + TF-IDF - F1 score: {f1_score_tfidf:.5f}')"
   ]
  },
  {
   "cell_type": "code",
   "execution_count": 34,
   "metadata": {},
   "outputs": [
    {
     "name": "stdout",
     "output_type": "stream",
     "text": [
      "Content: \t How to check whether SQL Server 2005 or 2008 is installed\n",
      "\tTrue tags: \t\t c#, sql-server\n",
      "\tBoW pred tags: \t\t \n",
      "\tTF-IDF pred tags: \t c#\n",
      "====================================================\n",
      "Content: \t Making HTML elements editable after a click of a button and save on the database\n",
      "\tTrue tags: \t\t javascript, php, html, css\n",
      "\tBoW pred tags: \t\t html, javascript\n",
      "\tTF-IDF pred tags: \t html, javascript\n",
      "====================================================\n",
      "Content: \t Time.zone & in_time_zone display wrong time in views\n",
      "\tTrue tags: \t\t ruby-on-rails, ruby\n",
      "\tBoW pred tags: \t\t datetime\n",
      "\tTF-IDF pred tags: \t datetime\n",
      "====================================================\n",
      "Content: \t Combine two integer arrays into one array in java\n",
      "\tTrue tags: \t\t java, arrays\n",
      "\tBoW pred tags: \t\t arrays, java\n",
      "\tTF-IDF pred tags: \t arrays, java\n",
      "====================================================\n",
      "Content: \t Importing From Sister Subdirectories in Python?\n",
      "\tTrue tags: \t\t python\n",
      "\tBoW pred tags: \t\t python\n",
      "\tTF-IDF pred tags: \t python\n",
      "====================================================\n",
      "Content: \t Django - Post ajax request forbidden 403 with ExtJS\n",
      "\tTrue tags: \t\t ajax, django\n",
      "\tBoW pred tags: \t\t ajax, django\n",
      "\tTF-IDF pred tags: \t ajax, django, javascript\n",
      "====================================================\n",
      "Content: \t Java: simplest integer hash\n",
      "\tTrue tags: \t\t java\n",
      "\tBoW pred tags: \t\t java\n",
      "\tTF-IDF pred tags: \t java\n",
      "====================================================\n",
      "Content: \t tableadaptor - delete rows\n",
      "\tTrue tags: \t\t c#, database\n",
      "\tBoW pred tags: \t\t \n",
      "\tTF-IDF pred tags: \t \n",
      "====================================================\n",
      "Content: \t log4j timezones\n",
      "\tTrue tags: \t\t java\n",
      "\tBoW pred tags: \t\t java\n",
      "\tTF-IDF pred tags: \t java\n",
      "====================================================\n",
      "Content: \t PHP session_start()\n",
      "\tTrue tags: \t\t php, session\n",
      "\tBoW pred tags: \t\t php\n",
      "\tTF-IDF pred tags: \t php, session\n",
      "====================================================\n"
     ]
    }
   ],
   "source": [
    "for idx in np.random.randint(0, len(test), size=10):\n",
    "    x_test_bow = X_test_bow[idx].reshape(1, -1)\n",
    "    x_test_tfidf = X_test_tfidf[idx].reshape(1, -1)\n",
    "    y_pred_tags_bow = mlb.inverse_transform(clf_bow.predict(x_test_bow))\n",
    "    y_pred_tags_tfidf = mlb.inverse_transform(clf_tfidf.predict(x_test_tfidf))\n",
    "    print('Content: \\t', test.title.iloc[idx])\n",
    "    print('\\tTrue tags: \\t\\t', ', '.join(test.tags.iloc[idx]))\n",
    "    print('\\tBoW pred tags: \\t\\t', ', '.join(y_pred_tags_bow[0]))\n",
    "    print('\\tTF-IDF pred tags: \\t', ', '.join(y_pred_tags_tfidf[0]))\n",
    "    print('====================================================')"
   ]
  },
  {
   "cell_type": "markdown",
   "metadata": {},
   "source": [
    "## Most important features"
   ]
  },
  {
   "cell_type": "code",
   "execution_count": 45,
   "metadata": {},
   "outputs": [],
   "source": [
    "def print_most_k_important_features(clf, tag, tags_classes, k, index2word):\n",
    "    coef = clf.coef_[tags_classes.index(tag)]\n",
    "    indexes = coef.argsort()\n",
    "    top_pos_words = [index2word[idx] for idx in indexes[-k:]]\n",
    "    top_neg_words = [index2word[idx] for idx in indexes[:k]]\n",
    "    print('\\tTop 5 positive words: {}'.format(', '.join(top_pos_words)))\n",
    "    print('\\tTop 5 negative words: {}'.format(', '.join(top_neg_words)))"
   ]
  },
  {
   "cell_type": "code",
   "execution_count": 49,
   "metadata": {},
   "outputs": [
    {
     "name": "stdout",
     "output_type": "stream",
     "text": [
      "Tag: qt\n",
      "    BoW\n",
      "\tTop 5 positive words: qtcreator, qt5, qstring, qml, qt\n",
      "\tTop 5 negative words: outside, work, 51, containing, calling\n",
      "    TF-IDF\n",
      "\tTop 5 positive words: qt5, qstring, qtableview, qml, qt\n",
      "\tTop 5 negative words: java, 51, php, python, javascript\n",
      "============================================================\n",
      "Tag: parsing\n",
      "    BoW\n",
      "\tTop 5 positive words: jobject, parsecom, parse, parsing, parser\n",
      "\tTop 5 negative words: built, class, efficient, problems, iphone\n",
      "    TF-IDF\n",
      "\tTop 5 positive words: read_csv, parsecom, parser, parsing, parse\n",
      "\tTop 5 negative words: class, xml string, iphone, write, json array\n",
      "============================================================\n",
      "Tag: google-maps\n",
      "    BoW\n",
      "\tTop 5 positive words: markers, maps, smoothly, google, polyline\n",
      "\tTop 5 negative words: initialize, oracle, displaying, extern, id\n",
      "    TF-IDF\n",
      "\tTop 5 positive words: maps, markers, googlemap, polyline, google\n",
      "\tTop 5 negative words: displaying, disappear, extern, redirect, style\n",
      "============================================================\n",
      "Tag: cocoa-touch\n",
      "    BoW\n",
      "\tTop 5 positive words: nsuserdefaults, obtained, afnetworking, uipickerview, customizing\n",
      "\tTop 5 negative words: php, javascript, c#, jquery, android\n",
      "    TF-IDF\n",
      "\tTop 5 positive words: uipickerview, iphone, nsuserdefaults, cocoa touch, unable parse\n",
      "\tTop 5 negative words: javascript, php, java, c#, jquery\n",
      "============================================================\n",
      "Tag: excel\n",
      "    BoW\n",
      "\tTop 5 positive words: vba, org, workbook, xls, excel\n",
      "\tTop 5 negative words: unicode, language, gui, swt, igniter\n",
      "    TF-IDF\n",
      "\tTop 5 positive words: org, spreadsheet, formulas, xls, excel\n",
      "\tTop 5 negative words: closing, working, render, installed, datatable\n",
      "============================================================\n",
      "Tag: ruby\n",
      "    BoW\n",
      "\tTop 5 positive words: chef, ruby, nokogiri, rubys, sinatra\n",
      "\tTop 5 negative words: thumbnails, innerhtml, attempting, host, 22\n",
      "    TF-IDF\n",
      "\tTop 5 positive words: rails, rubys, nokogiri, sinatra, ruby\n",
      "\tTop 5 negative words: ruby rails, php, java, python, c++\n",
      "============================================================\n",
      "Tag: xaml\n",
      "    BoW\n",
      "\tTop 5 positive words: xamarin, toggling, mainwindow, stretch, xaml\n",
      "\tTop 5 negative words: byte, net, table, cells, jquery\n",
      "    TF-IDF\n",
      "\tTop 5 positive words: initializecomponent, mainwindow, mediaelement, wpf, xaml\n",
      "\tTop 5 negative words: java, jquery, php, javascript, python\n",
      "============================================================\n",
      "Tag: angularjs\n",
      "    BoW\n",
      "\tTop 5 positive words: ngmodel, ngclick, ngrepeat, angular, angularjs\n",
      "\tTop 5 negative words: demo, 2, 220, recover, known\n",
      "    TF-IDF\n",
      "\tTop 5 positive words: ngclick, ionic, ngrepeat, angular, angularjs\n",
      "\tTop 5 negative words: angular 2, python, 220, uncaught typeerror, c#\n",
      "============================================================\n",
      "Tag: python-3.x\n",
      "    BoW\n",
      "\tTop 5 positive words: 405, stock, 3, 3x, python3\n",
      "\tTop 5 negative words: php, java, rails, c#, redirect\n",
      "    TF-IDF\n",
      "\tTop 5 positive words: custom function, scores, 311, python 3, python3\n",
      "\tTop 5 negative words: java, php, c#, javascript, c++\n",
      "============================================================\n",
      "Tag: javascript\n",
      "    BoW\n",
      "\tTop 5 positive words: threejs, xmlhttprequest, meteor, typescript, javascript\n",
      "\tTop 5 negative words: warnings, whilst, tcp, wpf, datagridview\n",
      "    TF-IDF\n",
      "\tTop 5 positive words: angularjs, angular, jquery, js, javascript\n",
      "\tTop 5 negative words: python, java, c#, c++, swift\n",
      "============================================================\n"
     ]
    }
   ],
   "source": [
    "tfidf_inv_vocab = {v:k for k, v in tfidf_vectorizer.vocabulary_.items()}\n",
    "\n",
    "for idx in np.random.randint(0, len(tag2count), size=10):\n",
    "    tag = [*tag2count.keys()][idx]\n",
    "    print(f'Tag: {tag}')\n",
    "    print('    BoW')\n",
    "    print_most_k_important_features(clf_bow, tag, mlb.classes, 5, INDEX2WORD)\n",
    "    print('    TF-IDF')\n",
    "    print_most_k_important_features(clf_tfidf, tag, mlb.classes, 5, tfidf_inv_vocab)\n",
    "    print('============================================================')"
   ]
  },
  {
   "cell_type": "code",
   "execution_count": 27,
   "metadata": {},
   "outputs": [],
   "source": [
    "pickle.dump(clf_bow, open('./trained models/clf_bow.pkl', 'wb'))\n",
    "pickle.dump(clf_bow, open('./trained models/clf_tfidf.pkl', 'wb'))"
   ]
  },
  {
   "cell_type": "code",
   "execution_count": null,
   "metadata": {},
   "outputs": [],
   "source": []
  }
 ],
 "metadata": {
  "celltoolbar": "Aucun(e)",
  "kernelspec": {
   "display_name": "Python 3",
   "language": "python",
   "name": "python3"
  },
  "language_info": {
   "codemirror_mode": {
    "name": "ipython",
    "version": 3
   },
   "file_extension": ".py",
   "mimetype": "text/x-python",
   "name": "python",
   "nbconvert_exporter": "python",
   "pygments_lexer": "ipython3",
   "version": "3.7.6"
  }
 },
 "nbformat": 4,
 "nbformat_minor": 4
}
